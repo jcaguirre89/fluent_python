{
 "cells": [
  {
   "cell_type": "markdown",
   "metadata": {},
   "source": [
    "# Decorators and Closures"
   ]
  },
  {
   "cell_type": "markdown",
   "metadata": {},
   "source": [
    "## Decorators\n",
    "A decorator is a callable that takes a function as argument and returns another one. It may perform some processing on the given function and return it, or return another one.\n",
    "\n",
    "They are executed immediately when a module is loaded. a decorator is run as many times as it decorates a function---if a decorator is used 3 times in a module for 3 different functions, it will run 3 times, one for each, when the module is imported/ran. But the decorated functions will only run when invoked (like normal functions)"
   ]
  },
  {
   "cell_type": "code",
   "execution_count": 4,
   "metadata": {},
   "outputs": [
    {
     "name": "stdout",
     "output_type": "stream",
     "text": [
      "running inner()\n"
     ]
    }
   ],
   "source": [
    "# Swap the given function with another one\n",
    "def deco(func):\n",
    "    def inner():\n",
    "        print('running inner()')\n",
    "    return inner\n",
    "\n",
    "@deco\n",
    "def target():\n",
    "    print('running target()')\n",
    "\n",
    "target()"
   ]
  },
  {
   "cell_type": "markdown",
   "metadata": {},
   "source": [
    "## Variable scope rules\n",
    "When Python compiles the body of a function, it will take of variables assigned within the body and decide that they're local, so evn if they are available in the global context, the next code would fail. When Python compiles this function, it decides that `b` is a local variable because it is assigned within the function.\n",
    "\n",
    "This is not a bug, but a design choice: Python does not require you to declare variables, but assumes that a variable assigned in the body of a function is local. This is much better than the behavior of JavaScript, which does not require variable declarations either, but if you do forget to declare that a variable is local (with var), you may clobber a global variable without knowing."
   ]
  },
  {
   "cell_type": "code",
   "execution_count": 11,
   "metadata": {},
   "outputs": [
    {
     "name": "stdout",
     "output_type": "stream",
     "text": [
      "3\n",
      "Error!\n",
      "3\n",
      "9\n"
     ]
    }
   ],
   "source": [
    "b = 9\n",
    "def foo(a):\n",
    "    print(a)\n",
    "    print(b)\n",
    "    b = 6\n",
    "\n",
    "try:\n",
    "    foo(3)\n",
    "except UnboundLocalError:\n",
    "    print('Error!')\n",
    "    \n",
    "# In order to have a function treat a variable as global even\n",
    "# if it is defined within the function's body, use global\n",
    "def foo(a):\n",
    "    global b\n",
    "    print(a)\n",
    "    print(b)\n",
    "    b = 6\n",
    "\n",
    "try:\n",
    "    foo(3)\n",
    "except UnboundLocalError:\n",
    "    print('Error!')"
   ]
  },
  {
   "cell_type": "code",
   "execution_count": 18,
   "metadata": {},
   "outputs": [
    {
     "name": "stdout",
     "output_type": "stream",
     "text": [
      "     a    b\n",
      "c          \n",
      "A  1.0  4.0\n",
      "B  2.5  5.5\n",
      "   a  b  c\n",
      "0  1  4  A\n",
      "1  2  5  B\n",
      "2  3  6  B\n"
     ]
    }
   ],
   "source": [
    "# Assigning to a variable without affecting one defined elsewhere\n",
    "import pandas as pd\n",
    "\n",
    "df = pd.DataFrame({'a': [1, 2, 3], 'b': [4, 5, 6], 'c': ['A', 'B', 'B']})\n",
    "\n",
    "def some_processing(df):\n",
    "    df = df.groupby('c').mean()\n",
    "    print(df)\n",
    "    \n",
    "some_processing(df)\n",
    "print(df)"
   ]
  },
  {
   "cell_type": "code",
   "execution_count": 20,
   "metadata": {},
   "outputs": [
    {
     "name": "stdout",
     "output_type": "stream",
     "text": [
      "   a  b  c  d\n",
      "0  1  4  A  5\n",
      "1  2  5  B  6\n",
      "2  3  6  B  7\n",
      "   a  b  c\n",
      "0  1  4  A\n",
      "1  2  5  B\n",
      "2  3  6  B\n"
     ]
    }
   ],
   "source": [
    "import pandas as pd\n",
    "\n",
    "df = pd.DataFrame({'a': [1, 2, 3], 'b': [4, 5, 6], 'c': ['A', 'B', 'B']})\n",
    "\n",
    "def some_processing(df):\n",
    "    df = df.copy()\n",
    "    df['d'] = [5, 6, 7]\n",
    "    print(df)\n",
    "    \n",
    "some_processing(df)\n",
    "print(df)"
   ]
  },
  {
   "cell_type": "markdown",
   "metadata": {
    "toc-hr-collapsed": false
   },
   "source": [
    "## Closures\n",
    "Functions defined within the scope of another function---a function that returns another function. function in the inside scope has access to all local variables defined in the outer scope. "
   ]
  },
  {
   "cell_type": "code",
   "execution_count": 5,
   "metadata": {},
   "outputs": [
    {
     "name": "stdout",
     "output_type": "stream",
     "text": [
      "10.0 10.5 11.0\n",
      "(<cell at 0x00000177A2351498: list object at 0x00000177A2362148>,)\n",
      "[10, 11, 12]\n"
     ]
    }
   ],
   "source": [
    "def make_averager():\n",
    "    series = []\n",
    "    def averager(new_value):\n",
    "        series.append(new_value)\n",
    "        return sum(series) / len(series)\n",
    "    \n",
    "    return averager\n",
    "\n",
    "avg = make_averager()\n",
    "\n",
    "print(avg(10), avg(11), avg(12))\n",
    "print(avg.__closure__)\n",
    "print(avg.__closure__[0].cell_contents)"
   ]
  },
  {
   "cell_type": "markdown",
   "metadata": {},
   "source": [
    "### Free Variables\n",
    "Within averager, `series` is a *free variable*---a variable that is not bound in the local scope. The binding for `series` is kept in the `__closure__` attribute of the `avg` function. Each item in this attr is called a cell and corresponds to a *freevar*, and they have an attribute called `cell_contents` where the actual values are stored.\n",
    "\n",
    "So put another way, closures are functions that retain the bindings of the free variables that exist in the scope when the function was defined, so they can be used later when the function is invoked and the scope is no longer available."
   ]
  },
  {
   "cell_type": "markdown",
   "metadata": {},
   "source": [
    "### Nonlocal declaration\n",
    "In the previous example, series (a mutable list) is called and updated within the inner function, and remains as a free variable. But in this version:\n",
    "\n",
    "```python\n",
    "def make_averager():\n",
    "    total = 0\n",
    "    count = 0\n",
    "    def averager(new_value):\n",
    "        count = count + 1\n",
    "        total = total + new_value\n",
    "        return total / count \n",
    "    return averager\n",
    "```\n",
    "\n",
    "It wouldn't work because count and total are float/int, which are immutable, and when assigning to them `count = count + 1` python interprets them as a new assignment and decides they are local variables, instead of free variables. In order for this to work, we must tell python that these are free variables by adding the following line:\n",
    "\n",
    "```python\n",
    "# ...\n",
    "def averager(new_value):\n",
    "    # count and total are not local variables\n",
    "    nonlocal count, total\n",
    "    count = count + 1\n",
    "    total = total + 1\n",
    "    # ...\n",
    "```"
   ]
  },
  {
   "cell_type": "markdown",
   "metadata": {},
   "source": [
    "## Decorator implementation"
   ]
  },
  {
   "cell_type": "code",
   "execution_count": 38,
   "metadata": {},
   "outputs": [],
   "source": [
    "# Example: decorator that times function\n",
    "import time\n",
    "import functools\n",
    "\n",
    "def clock(func):\n",
    "    @functools.wraps(func)\n",
    "    def clocked(*args):\n",
    "        t0 = time.perf_counter()\n",
    "        result = func(*args)\n",
    "        elapsed = time.perf_counter() - t0\n",
    "        name = func.__name__\n",
    "        arg_str = ', '.join(repr(arg) for arg in args)\n",
    "        print(f'[{elapsed:0.8f}] {name}({arg_str}) -> {result}')\n",
    "        return result\n",
    "    return clocked\n",
    "        "
   ]
  },
  {
   "cell_type": "code",
   "execution_count": 39,
   "metadata": {},
   "outputs": [
    {
     "name": "stdout",
     "output_type": "stream",
     "text": [
      "[0.49876418] foo(0.5) -> None\n",
      "foo\n"
     ]
    }
   ],
   "source": [
    "@clock\n",
    "def foo(seconds):\n",
    "    time.sleep(seconds)\n",
    "    \n",
    "foo(0.5)\n",
    "print(foo.__name__)"
   ]
  },
  {
   "cell_type": "markdown",
   "metadata": {
    "toc-hr-collapsed": false
   },
   "source": [
    "### Decorators in the standard library"
   ]
  },
  {
   "cell_type": "markdown",
   "metadata": {},
   "source": [
    "#### `lru_cache`"
   ]
  },
  {
   "cell_type": "markdown",
   "metadata": {},
   "source": [
    "\n",
    "Saves the results of previous invocations of a function, avoiding repeat computations on previously used arguments.\n",
    "\n",
    "LRU stands for 'Least Recently Used', because it stores the most recent used results for given arguments.\n",
    "\n",
    "It accepts 2 arguments:\n",
    "- `maxsize`: `int`. Number of results to store. Old ones are dropped out the end.\n",
    "- `typed`: `bool`. \n",
    "\n",
    "Because `lru_cache` will store results for each argument in a dictionary, arguments to the function itself must be hashable.\n"
   ]
  },
  {
   "cell_type": "code",
   "execution_count": 46,
   "metadata": {},
   "outputs": [
    {
     "name": "stdout",
     "output_type": "stream",
     "text": [
      "[0.00000038] fibonacci(0) -> 0\n",
      "[0.00000113] fibonacci(1) -> 1\n",
      "[0.00030546] fibonacci(2) -> 1\n",
      "[0.00000113] fibonacci(1) -> 1\n",
      "[0.00000113] fibonacci(0) -> 0\n",
      "[0.00000113] fibonacci(1) -> 1\n",
      "[0.00010044] fibonacci(2) -> 1\n",
      "[0.00019483] fibonacci(3) -> 2\n",
      "[0.00059431] fibonacci(4) -> 3\n",
      "[0.00000076] fibonacci(1) -> 1\n",
      "[0.00000302] fibonacci(0) -> 0\n",
      "[0.00000076] fibonacci(1) -> 1\n",
      "[0.00008760] fibonacci(2) -> 1\n",
      "[0.00019106] fibonacci(3) -> 2\n",
      "[0.00000076] fibonacci(0) -> 0\n",
      "[0.00000113] fibonacci(1) -> 1\n",
      "[0.00008533] fibonacci(2) -> 1\n",
      "[0.00000076] fibonacci(1) -> 1\n",
      "[0.00000076] fibonacci(0) -> 0\n",
      "[0.00000076] fibonacci(1) -> 1\n",
      "[0.00005853] fibonacci(2) -> 1\n",
      "[0.00011101] fibonacci(3) -> 2\n",
      "[0.00025222] fibonacci(4) -> 3\n",
      "[0.00050973] fibonacci(5) -> 5\n",
      "[0.00127320] fibonacci(6) -> 8\n"
     ]
    },
    {
     "data": {
      "text/plain": [
       "8"
      ]
     },
     "execution_count": 46,
     "metadata": {},
     "output_type": "execute_result"
    }
   ],
   "source": [
    "@clock\n",
    "def fibonacci(n):\n",
    "    if n < 2:\n",
    "        return n\n",
    "    return fibonacci(n - 2) + fibonacci(n - 1)\n",
    "\n",
    "fibonacci(6)"
   ]
  },
  {
   "cell_type": "code",
   "execution_count": 47,
   "metadata": {},
   "outputs": [
    {
     "name": "stdout",
     "output_type": "stream",
     "text": [
      "[0.00000038] fibonacci(0) -> 0\n",
      "[0.00000076] fibonacci(1) -> 1\n",
      "[0.00028658] fibonacci(2) -> 1\n",
      "[0.00000113] fibonacci(3) -> 2\n",
      "[0.00032472] fibonacci(4) -> 3\n",
      "[0.00000151] fibonacci(5) -> 5\n",
      "[0.00050634] fibonacci(6) -> 8\n"
     ]
    },
    {
     "data": {
      "text/plain": [
       "8"
      ]
     },
     "execution_count": 47,
     "metadata": {},
     "output_type": "execute_result"
    }
   ],
   "source": [
    "import functools\n",
    "\n",
    "@functools.lru_cache()\n",
    "@clock\n",
    "def fibonacci(n):\n",
    "    if n < 2:\n",
    "        return n\n",
    "    return fibonacci(n - 2) + fibonacci(n - 1)\n",
    "\n",
    "fibonacci(6)"
   ]
  },
  {
   "cell_type": "code",
   "execution_count": 48,
   "metadata": {},
   "outputs": [
    {
     "name": "stdout",
     "output_type": "stream",
     "text": [
      "[0.00000076] fibonacci(7) -> 13\n",
      "[0.00026242] fibonacci(8) -> 21\n",
      "[0.00000113] fibonacci(9) -> 34\n",
      "[0.00030924] fibonacci(10) -> 55\n",
      "[0.00000151] fibonacci(11) -> 89\n",
      "[0.00036701] fibonacci(12) -> 144\n",
      "[0.00000113] fibonacci(13) -> 233\n",
      "[0.00040628] fibonacci(14) -> 377\n",
      "[0.00000151] fibonacci(15) -> 610\n",
      "[0.00045914] fibonacci(16) -> 987\n",
      "[0.00000113] fibonacci(17) -> 1597\n",
      "[0.00049992] fibonacci(18) -> 2584\n",
      "[0.00000113] fibonacci(19) -> 4181\n",
      "[0.00055731] fibonacci(20) -> 6765\n",
      "[0.00000113] fibonacci(21) -> 10946\n",
      "[0.00061432] fibonacci(22) -> 17711\n",
      "[0.00000076] fibonacci(23) -> 28657\n",
      "[0.00064982] fibonacci(24) -> 46368\n",
      "[0.00000189] fibonacci(25) -> 75025\n",
      "[0.00081935] fibonacci(26) -> 121393\n",
      "[0.00000227] fibonacci(27) -> 196418\n",
      "[0.00091828] fibonacci(28) -> 317811\n",
      "[0.00000453] fibonacci(29) -> 514229\n",
      "[0.00101569] fibonacci(30) -> 832040\n"
     ]
    },
    {
     "data": {
      "text/plain": [
       "832040"
      ]
     },
     "execution_count": 48,
     "metadata": {},
     "output_type": "execute_result"
    }
   ],
   "source": [
    "fibonacci(30)"
   ]
  },
  {
   "cell_type": "markdown",
   "metadata": {
    "toc-hr-collapsed": true
   },
   "source": [
    "#### `singledispatch`"
   ]
  },
  {
   "cell_type": "markdown",
   "metadata": {},
   "source": [
    "Used to create a generic dispatcher function that dispatches to specialized functions depending on the type of the first argument. These specialized functions can be registered anywhere in the system, in any module."
   ]
  },
  {
   "cell_type": "code",
   "execution_count": 50,
   "metadata": {},
   "outputs": [],
   "source": [
    "# Turn python objects into html representations\n",
    "from functools import singledispatch\n",
    "from collections import abc\n",
    "import numbers\n",
    "import html\n",
    "\n",
    "@singledispatch\n",
    "def htmlize(obj):\n",
    "    \"\"\" Main generic function \"\"\"\n",
    "    content = html.escape(repr(obj))\n",
    "    return f\"<pre>{content}</pre>\"\n",
    "\n",
    "# Start defining specialized functions to handle specific types\n",
    "# Their names don't matter\n",
    "@htmlize.register(str)\n",
    "def _(text):\n",
    "    content = html.escape(text).replace('\\n', '<br>\\n')\n",
    "    return f\"<p>{content}</p>\"\n",
    "\n",
    "@htmlize.register(numbers.Integral)\n",
    "def _(n):\n",
    "    return \"<pre>{0} (0x{0:x})</pre>\".format(n)\n",
    "\n",
    "@htmlize.register(tuple)\n",
    "@htmlize.register(abc.MutableSequence)\n",
    "def _(seq):\n",
    "    content = '</li>\\n<li>'.join(htmlize(item) for item in seq)\n",
    "    return f'<ul>\\n<li>{content}</li>\\n</ul>'"
   ]
  },
  {
   "cell_type": "code",
   "execution_count": 53,
   "metadata": {},
   "outputs": [
    {
     "name": "stdout",
     "output_type": "stream",
     "text": [
      "<ul>\n",
      "<li><p>My Pony</p></li>\n",
      "<li><ul>\n",
      "<li><pre>15 (0xf)</pre></li>\n",
      "<li><pre>255 (0xff)</pre></li>\n",
      "<li><pre>343 (0x157)</pre></li>\n",
      "</ul></li>\n",
      "<li><pre>{&#x27;Name&#x27;: &#x27;Juan&#x27;, &#x27;Last&#x27;: &#x27;Aguirre&#x27;}</pre></li>\n",
      "</ul>\n"
     ]
    }
   ],
   "source": [
    "print(htmlize(['My Pony', [15, 255, 343], {'Name': 'Juan', 'Last': 'Aguirre'}]))"
   ]
  }
 ],
 "metadata": {
  "kernelspec": {
   "display_name": "ml",
   "language": "python",
   "name": "ml"
  },
  "language_info": {
   "codemirror_mode": {
    "name": "ipython",
    "version": 3
   },
   "file_extension": ".py",
   "mimetype": "text/x-python",
   "name": "python",
   "nbconvert_exporter": "python",
   "pygments_lexer": "ipython3",
   "version": "3.6.6"
  }
 },
 "nbformat": 4,
 "nbformat_minor": 2
}
