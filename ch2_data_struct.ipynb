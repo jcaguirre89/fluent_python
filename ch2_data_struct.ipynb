{
 "cells": [
  {
   "cell_type": "markdown",
   "metadata": {},
   "source": [
    "## Lists and arrays"
   ]
  },
  {
   "cell_type": "code",
   "execution_count": 4,
   "metadata": {},
   "outputs": [
    {
     "name": "stdout",
     "output_type": "stream",
     "text": [
      "'tuple' object does not support item assignment\n",
      "(1, 2, [30, 40, 50, 60])\n"
     ]
    }
   ],
   "source": [
    "## Don't add mutable sequences to immutable sequences\n",
    "a = (1, 2, [30, 40])\n",
    "try:\n",
    "    a[2] += [50, 60]\n",
    "except TypeError as e:\n",
    "    print(e)\n",
    "    print(a)\n",
    "    "
   ]
  },
  {
   "cell_type": "code",
   "execution_count": 7,
   "metadata": {},
   "outputs": [
    {
     "name": "stdout",
     "output_type": "stream",
     "text": [
      "[('large', 'black'), ('large', 'white'), ('large', 'red'), ('small', 'black'), ('small', 'white'), ('small', 'red')]\n"
     ]
    }
   ],
   "source": [
    "## List comprehensions\n",
    "## Cartesian product: [large, small] * [black, white, red] = [(large, black), (large, white)...]\n",
    "colors = 'black white red'.split(' ')\n",
    "sizes = 'large small'.split(' ')\n",
    "shirts = [(size, color) for size in sizes\n",
    "                        for color in colors]\n",
    "print(shirts)\n"
   ]
  },
  {
   "cell_type": "code",
   "execution_count": 8,
   "metadata": {},
   "outputs": [
    {
     "name": "stdout",
     "output_type": "stream",
     "text": [
      "[('large', 'black'), ('large', 'white'), ('small', 'black'), ('small', 'white')]\n"
     ]
    }
   ],
   "source": [
    "## List comprehension with ifs\n",
    "shirts = [(size, color) for size in sizes\n",
    "                        for color in colors\n",
    "                        if color not in ['red']]\n",
    "print(shirts)"
   ]
  },
  {
   "cell_type": "code",
   "execution_count": 11,
   "metadata": {},
   "outputs": [
    {
     "data": {
      "text/plain": [
       "'    Road less traveled - by Cristobal'"
      ]
     },
     "execution_count": 11,
     "metadata": {},
     "output_type": "execute_result"
    }
   ],
   "source": [
    "# Method chaining\n",
    "# Return self in the methods\n",
    "\n",
    "class Poem(object):\n",
    "    def __init__(self, content):\n",
    "        self.content = content\n",
    "\n",
    "    def indent(self, spaces):\n",
    "        self.content = \" \" * spaces + self.content\n",
    "        return self\n",
    "\n",
    "    def suffix(self, content):\n",
    "        self.content = self.content + \" - \" + content\n",
    "        return self\n",
    "    \n",
    "Poem('Road less traveled').indent(4).suffix('by Cristobal').content\n"
   ]
  },
  {
   "cell_type": "code",
   "execution_count": 26,
   "metadata": {},
   "outputs": [
    {
     "name": "stdout",
     "output_type": "stream",
     "text": [
      "declared: ['CdYssyfd', 'BdXs', 'DsWdswfdf', 'AsZsc']\n",
      "default: ['AsZsc', 'BdXs', 'CdYssyfd', 'DsWdswfdf']\n",
      "first char: ['AsZsc', 'BdXs', 'CdYssyfd', 'DsWdswfdf']\n",
      "third char: ['DsWdswfdf', 'BdXs', 'CdYssyfd', 'AsZsc']\n"
     ]
    }
   ],
   "source": [
    "## Sorting\n",
    "## list.sort (sorts in place) or sorted() (returns new list -> can be used for immutable sequences)\n",
    "\n",
    "## args: key: function that takes one argument, and returns the key that will be used to sort the list\n",
    "\n",
    "s = 'AsZsc'\n",
    "s2 = 'BdXs'\n",
    "s3 = 'CdYssyfd'\n",
    "s4 = 'DsWdswfdf'\n",
    "sort_this = [s3, s2, s4, s]\n",
    "\n",
    "# Declaration order\n",
    "print('declared:', sort_this)\n",
    "\n",
    "# Default sorting -> Same as first_char\n",
    "print('default:', sorted(sort_this))\n",
    "\n",
    "# Sort by first char\n",
    "s1 = lambda x: x[0]\n",
    "print('first char:', sorted(sort_this, key=s1))\n",
    "\n",
    "# third char\n",
    "s2 = lambda x: x[2]\n",
    "print('third char:', sorted(sort_this, key=s2))"
   ]
  },
  {
   "cell_type": "code",
   "execution_count": 62,
   "metadata": {},
   "outputs": [
    {
     "name": "stdout",
     "output_type": "stream",
     "text": [
      "D/E: 2 rank: 1\n",
      "D/E: 5 rank: 1\n",
      "D/E: 1 rank: 0\n",
      "D/E: 4 rank: 1\n",
      "D/E: 8.1 rank: 1\n"
     ]
    }
   ],
   "source": [
    "## Searching with bisect\n",
    "# bisect(haystack, needle) --> Binary search for a needle in a haystack (sorted seq.),\n",
    "# returning the position\n",
    "# bisect <=> bisect_right: if equal, insert to the right\n",
    "# bisect_left: if equal, insert to the left\n",
    "\n",
    "# Example: bucket debt_equity value into bins\n",
    "BREAKPOINTS = (7, 4, 2, 1)\n",
    "RANKS = (0, 0.25, 0.5, 0.75, 1)\n",
    "DE = (2, 5, 1, 4, 8.1)\n",
    "def bucket_de(de, breakpoints, ranks):\n",
    "    position = bisect.bisect(breakpoints, de)\n",
    "    return ranks[position]\n",
    "\n",
    "# Not working.. still, can do this with numpy\n",
    "for de in DE:\n",
    "    print('D/E:', de, 'rank:', bucket_de(de, BREAKPOINTS, RANKS))\n",
    "\n",
    "    \n",
    "# insort(seq, item): inserts item into seq, keeping ascending order "
   ]
  },
  {
   "cell_type": "code",
   "execution_count": 63,
   "metadata": {},
   "outputs": [],
   "source": [
    "## Arrays\n",
    "# good for sequences of floats, mostly if it's going to be very (1M) large\n",
    "# Use Numpy instead"
   ]
  },
  {
   "cell_type": "code",
   "execution_count": 74,
   "metadata": {},
   "outputs": [
    {
     "name": "stdout",
     "output_type": "stream",
     "text": [
      "deque([0, 1, 2, 3, 4, 5, 6, 7, 8, 9], maxlen=10)\n",
      "rotated:  deque([7, 8, 9, 0, 1, 2, 3, 4, 5, 6], maxlen=10)\n",
      "append left: deque([-1, 7, 8, 9, 0, 1, 2, 3, 4, 5], maxlen=10)\n",
      "extend:  deque([9, 0, 1, 2, 3, 4, 5, 99, 88, 77], maxlen=10)\n"
     ]
    }
   ],
   "source": [
    "# Deque\n",
    "# Double ended queue. Lists allow to insert and remove from both ends too, \n",
    "# dequeues are much more efficient\n",
    "# Also can be bounded, so p.e. it can hold only 10 items and discard olds\n",
    "from collections import deque\n",
    "\n",
    "seq = deque(range(10), maxlen=10)\n",
    "print(seq)\n",
    "# Rotate (in place)\n",
    "seq.rotate(3)\n",
    "print('rotated: ', seq)\n",
    "seq.appendleft(-1)\n",
    "print('append left:', seq)\n",
    "seq.extend([99, 88, 77])\n",
    "print('extend: ', seq)"
   ]
  },
  {
   "cell_type": "markdown",
   "metadata": {},
   "source": [
    "## Dictionaries"
   ]
  },
  {
   "cell_type": "markdown",
   "metadata": {},
   "source": [
    "- Keys must be hashable: an object is hashable if it has a value that never changes during its lifetime (it needs a \\_\\_hash__() method); and can be compared to other objects (has an \n",
    "\\_\\_eq__() method(). Hashable objects which compare equal **must** have the same hash value.\n",
    "- hasable types: str, bytes, numerics, tuples (only if it's items are hashable\n"
   ]
  },
  {
   "cell_type": "code",
   "execution_count": 103,
   "metadata": {},
   "outputs": [
    {
     "data": {
      "text/plain": [
       "{'China': 86, 'India': 91, 'Indonesia': 62, 'United States': 1}"
      ]
     },
     "execution_count": 103,
     "metadata": {},
     "output_type": "execute_result"
    }
   ],
   "source": [
    "# Dict comprehensions\n",
    "DIAL_CODES = [\n",
    "    (86, 'China'),\n",
    "    (91, 'India'),\n",
    "    (1, 'United States'),\n",
    "    (62, 'Indonesia'),\n",
    "    ]\n",
    "country_code = {country: code for code, country in DIAL_CODES}\n",
    "country_code"
   ]
  },
  {
   "cell_type": "code",
   "execution_count": 134,
   "metadata": {},
   "outputs": [
    {
     "name": "stdout",
     "output_type": "stream",
     "text": [
      "56\n",
      "2019-01-16 22:34:47.144914\n",
      "2019-01-16 22:34:47.155882\n",
      "defaultdict(<function def_val at 0x000001FEF3D83488>,\n",
      "            {'a': datetime.datetime(2019, 1, 16, 22, 34, 47, 144914),\n",
      "             'b': datetime.datetime(2019, 1, 16, 22, 34, 47, 155882)})\n"
     ]
    }
   ],
   "source": [
    "# Handing missing keys\n",
    "key='Chile'\n",
    "new_value = '56'\n",
    "try: \n",
    "    country_code[key] = '56'\n",
    "except KeyError:\n",
    "    print(f'{key} not in dict')\n",
    "\n",
    "# Use dict.get to provide a default and not have to deal with KeyError\n",
    "print(country_code.get(key, f'{key} not in dict'))\n",
    "    \n",
    "#defaultdict\n",
    "# Can be instanciated with a default_factory argument, which is a type. this\n",
    "# this is the type that is called to provide a default value when there is a missing key\n",
    "from collections import defaultdict\n",
    "import datetime\n",
    "import time\n",
    "import pprint\n",
    "\n",
    "dd = defaultdict(list)\n",
    "def def_val():\n",
    "    return datetime.datetime.now()\n",
    "\n",
    "dd = defaultdict(def_val)\n",
    "#dd = defaultdict(list)\n",
    "#print(dd['a'] == [])\n",
    "#print(dd['b'] == [])\n",
    "print(dd['a'])\n",
    "time.sleep(0.01)\n",
    "print(dd['b'])\n",
    "pprint.pprint(dd)"
   ]
  },
  {
   "cell_type": "code",
   "execution_count": 135,
   "metadata": {},
   "outputs": [],
   "source": [
    "## OrderedDict\n",
    "# Preserves keys in the order they were added to te dict\n"
   ]
  },
  {
   "cell_type": "code",
   "execution_count": 146,
   "metadata": {},
   "outputs": [
    {
     "name": "stdout",
     "output_type": "stream",
     "text": [
      "Counter({'a': 5, 'b': 2, 'r': 2, 'c': 1, 'd': 1})\n",
      "Counter({5: 10, 3: 8, 2: 2, 1: 1, 52: 1, 4: 1})\n"
     ]
    },
    {
     "data": {
      "text/plain": [
       "[(5, 10), (3, 8)]"
      ]
     },
     "execution_count": 146,
     "metadata": {},
     "output_type": "execute_result"
    }
   ],
   "source": [
    "## Counter\n",
    "# count occurences of items in a sequence; returns as dict\n",
    "from collections import Counter\n",
    "ct = Counter('abracadabra')\n",
    "print(ct)\n",
    "\n",
    "ct = Counter([1,3,3,3,52,3,4,5,5,2,3,5,5,3,5,5,3,5,5,2,5,3,5])\n",
    "print(ct)\n",
    "# Most common: (key, n_occurences)\n",
    "ct.most_common(2)\n"
   ]
  },
  {
   "cell_type": "markdown",
   "metadata": {},
   "source": [
    "## Sets"
   ]
  },
  {
   "cell_type": "markdown",
   "metadata": {},
   "source": [
    "Set elements must be hashable\n",
    "Sets are NOT ordered\n",
    "Sets remove duplicates\n",
    "Set operations:\n",
    "- &: intersection (and)\n",
    "- |: union (or)\n",
    "- \\-: difference\n",
    "- ^: Symmetrical difference (xor)\n",
    "\n",
    "#### Construction\n",
    "set([1, 2, 3])\n",
    "\n",
    "{1, 2, 3} <-- Set literal, fastest way\n",
    "\n",
    "#### Comparisons:\n",
    "a <= b --> a is a subset of b\n",
    "\n",
    "b >= a --> b is a superset of a\n",
    "\n",
    "#### Other methods\n",
    "- a.discard(e): remove element `e` from set a *if* it is present\n",
    "- a.remove(e): remove element `e`, raise KeyError if not present\n",
    "- a.add(e): add element `e` to set a\n"
   ]
  },
  {
   "cell_type": "code",
   "execution_count": 149,
   "metadata": {},
   "outputs": [
    {
     "name": "stdout",
     "output_type": "stream",
     "text": [
      "union: {2, 3}\n"
     ]
    }
   ],
   "source": [
    "a = {1,2,3,4,5}\n",
    "b = {2,3}\n",
    "print('union:', a & b)\n"
   ]
  }
 ],
 "metadata": {
  "kernelspec": {
   "display_name": "Python [conda env:Anaconda3]",
   "language": "python",
   "name": "conda-env-Anaconda3-py"
  },
  "language_info": {
   "codemirror_mode": {
    "name": "ipython",
    "version": 3
   },
   "file_extension": ".py",
   "mimetype": "text/x-python",
   "name": "python",
   "nbconvert_exporter": "python",
   "pygments_lexer": "ipython3",
   "version": "3.6.6"
  }
 },
 "nbformat": 4,
 "nbformat_minor": 2
}
