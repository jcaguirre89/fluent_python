{
 "cells": [
  {
   "cell_type": "markdown",
   "metadata": {},
   "source": [
    "# Chapter 9: A Pythonic object"
   ]
  },
  {
   "cell_type": "code",
   "execution_count": 85,
   "metadata": {},
   "outputs": [],
   "source": [
    "# A 2d vector object\n",
    "import math\n",
    "from array import array\n",
    "\n",
    "class Vector:\n",
    "    # Typecode for turing into bytes\n",
    "    typecode = 'd'\n",
    "\n",
    "    # __slots__ so attributes are stored as tuples instead of a dict\n",
    "    # which saves memory (only an issue if instanciating millions of objects)\n",
    "    __slots__ = ('__x', '__y')\n",
    "    \n",
    "    def __init__(self, x, y):\n",
    "        self.__x = float(x)\n",
    "        self.__y = float(y)\n",
    "        \n",
    "    def __iter__(self):\n",
    "        return (i for i in (self.x, self.y))\n",
    "        \n",
    "    def __repr__(self):\n",
    "        class_name = type(self).__name__\n",
    "        return '{}({!r}, {!r})'.format(class_name, *self)\n",
    "    \n",
    "    def __str__(self):\n",
    "        return str(tuple(self))\n",
    "    \n",
    "    def __eq__(self, other):\n",
    "        return tuple(self) == tuple(other)\n",
    "    \n",
    "    def __abs__(self):\n",
    "        return math.hypot(*self)\n",
    "    \n",
    "    def __bool__(self):\n",
    "        return bool(abs(self))\n",
    "    \n",
    "    def __bytes__(self):\n",
    "        return (bytes([ord(self.typecode)]) + bytes(array(self.typecode, self)))\n",
    "    \n",
    "    #def __format__(self, fmt_spec=''):\n",
    "    #    components = (format(coord, fmt_spec) for coord in self)\n",
    "    #    return '({}, {})'.format(*components)\n",
    "    def __format__(self, fmt_spec=''):\n",
    "        if fmt_spec.endswith('p'):\n",
    "            fmt_spec = fmt_spec[:-1]\n",
    "            coords = (abs(self), self.angle)\n",
    "            outer_fmt = '<{}, {}>'\n",
    "        else:\n",
    "            coords = self\n",
    "            outer_fmt = '({}, {})'\n",
    "        components = (format(item, fmt_spec) for item in coords)\n",
    "        return outer_fmt.format(*components)\n",
    "        \n",
    "    @classmethod\n",
    "    def frombytes(cls, octets):\n",
    "        typecode = chr(octets[0])\n",
    "        memv = memoryview(octets[1:]).cast(typecode)\n",
    "        return cls(*memv)\n",
    "    \n",
    "    @property\n",
    "    def angle(self):\n",
    "        \"\"\" venctor angle (in radians) \"\"\"\n",
    "        return math.atan2(*self)\n",
    "    \n",
    "    # Make it hashable so it can be used in sets and as dict keys\n",
    "    # Must make immutable first (attributes as read-only)\n",
    "    @property\n",
    "    def x(self):\n",
    "        return self.__x\n",
    "    \n",
    "    @property\n",
    "    def y(self):\n",
    "        return self.__y\n",
    "    \n",
    "    def __hash__(self):\n",
    "        \"\"\"\n",
    "        The __hash__ docs recomend using the polar operator ^ (XOR) to mix\n",
    "        hashes of components\n",
    "        \"\"\"\n",
    "        return hash(self.x) ^ hash(self.y)\n",
    "    "
   ]
  },
  {
   "cell_type": "code",
   "execution_count": 71,
   "metadata": {},
   "outputs": [
    {
     "name": "stdout",
     "output_type": "stream",
     "text": [
      "coords: (1.0000, 2.0000)\n",
      "polar: <2.2361, 0.46365>\n"
     ]
    }
   ],
   "source": [
    "v = Vector(1,2)\n",
    "print('coords:',f'{v:.4f}')\n",
    "print('polar:', f'{v:.5p}')"
   ]
  },
  {
   "cell_type": "code",
   "execution_count": 82,
   "metadata": {},
   "outputs": [
    {
     "name": "stdout",
     "output_type": "stream",
     "text": [
      "1.0\n"
     ]
    },
    {
     "ename": "AttributeError",
     "evalue": "can't set attribute",
     "output_type": "error",
     "traceback": [
      "\u001b[1;31m---------------------------------------------------------------------------\u001b[0m",
      "\u001b[1;31mAttributeError\u001b[0m                            Traceback (most recent call last)",
      "\u001b[1;32m<ipython-input-82-1a869dadcb95>\u001b[0m in \u001b[0;36m<module>\u001b[1;34m()\u001b[0m\n\u001b[0;32m      1\u001b[0m \u001b[1;31m# private attributes\u001b[0m\u001b[1;33m\u001b[0m\u001b[1;33m\u001b[0m\u001b[0m\n\u001b[0;32m      2\u001b[0m \u001b[0mprint\u001b[0m\u001b[1;33m(\u001b[0m\u001b[0mv\u001b[0m\u001b[1;33m.\u001b[0m\u001b[0mx\u001b[0m\u001b[1;33m)\u001b[0m\u001b[1;33m\u001b[0m\u001b[0m\n\u001b[1;32m----> 3\u001b[1;33m \u001b[0mv\u001b[0m\u001b[1;33m.\u001b[0m\u001b[0mx\u001b[0m \u001b[1;33m=\u001b[0m \u001b[1;36m5\u001b[0m\u001b[1;33m\u001b[0m\u001b[0m\n\u001b[0m",
      "\u001b[1;31mAttributeError\u001b[0m: can't set attribute"
     ]
    }
   ],
   "source": [
    "# private attributes\n",
    "print(v.x)\n",
    "v.x = 5"
   ]
  },
  {
   "cell_type": "code",
   "execution_count": 79,
   "metadata": {},
   "outputs": [
    {
     "name": "stdout",
     "output_type": "stream",
     "text": [
      "True\n",
      "3 3\n",
      "{Vector(1.4, 2.5), Vector(1.0, 2.0)}\n",
      "{'v1': Vector(1.0, 2.0), 'v2': Vector(1.4, 2.5)}\n"
     ]
    }
   ],
   "source": [
    "# Hashable\n",
    "v = Vector(1,2)\n",
    "v1 = Vector(1,2)\n",
    "v2 = Vector(1.4, 2.5)\n",
    "v_names = 'v1 v2 v2'.split()\n",
    "v_list = [v, v1, v2]\n",
    "print(v == v1)\n",
    "print(hash(v), hash(v1))\n",
    "print(set(v_list))\n",
    "print(dict(zip(v_names, v_list)))"
   ]
  },
  {
   "cell_type": "code",
   "execution_count": 92,
   "metadata": {},
   "outputs": [
    {
     "name": "stdout",
     "output_type": "stream",
     "text": [
      "17\n",
      "9\n"
     ]
    }
   ],
   "source": [
    "# Class attributes\n",
    "# are passed on to instances by default, and can be overriden.\n",
    "# The more pythonic way is to create a subclass than only alters \n",
    "# the desired attribures\n",
    "class ShortVector(Vector):\n",
    "    typecode = 'f'\n",
    "    \n",
    "v1 = Vector(1/11, 1/27)\n",
    "v2 = ShortVector(1/7, 1/23)\n",
    "\n",
    "print(len(bytes(v1)))\n",
    "print(len(bytes(v2)))\n"
   ]
  },
  {
   "cell_type": "code",
   "execution_count": null,
   "metadata": {},
   "outputs": [],
   "source": []
  }
 ],
 "metadata": {
  "kernelspec": {
   "display_name": "Python [conda env:learning]",
   "language": "python",
   "name": "conda-env-learning-py"
  },
  "language_info": {
   "codemirror_mode": {
    "name": "ipython",
    "version": 3
   },
   "file_extension": ".py",
   "mimetype": "text/x-python",
   "name": "python",
   "nbconvert_exporter": "python",
   "pygments_lexer": "ipython3",
   "version": "3.7.0"
  }
 },
 "nbformat": 4,
 "nbformat_minor": 2
}
