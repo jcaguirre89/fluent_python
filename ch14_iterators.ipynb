{
 "cells": [
  {
   "cell_type": "markdown",
   "metadata": {},
   "source": [
    "# Iterables, Iterators and Generators"
   ]
  },
  {
   "cell_type": "markdown",
   "metadata": {},
   "source": [
    "## Why sequences are iterable\n",
    "Whenever the interpreter needs to iterate over and objects `x`, it calls `iter(x)`. The `iter` built-in fuction will:\n",
    "1. Check if the object implements `__iter__` and if so calls it\n",
    "2. if not, but `__getitem__` is, Python creates an iterator that attempts to fetch items in order, starting from index 0\n",
    "3. If that fails, Python raises TypeError: object not iterable\n",
    "\n",
    "So because all sequences in Python implement `__getitem__`, they are all iterable. However, it is recommended to implement `__iter__` anyway because this behaviour exists for backwards compatibility and may be removed in the future."
   ]
  },
  {
   "cell_type": "markdown",
   "metadata": {},
   "source": [
    "## Iterables vs Iterators\n",
    ">iterable: Any object from which the built-in function `iter()` can obtain an iterator.\n",
    "\n",
    "The standard interface for an iterator has 2 methods:\n",
    "- `__next__`: Returns the next available item, raising `StopIteration` if there are no more items\n",
    "- `__iter__`: returns self. Allows iterators to be used when an iterable is expected, for example in a for loop.\n",
    "\n",
    "So iterators are also iterable, but iterables are not iterators (because they don't have a `__next__` method).\n",
    "\n",
    "The best way to check if an object is an iterator is with `isinstance(x, abc.Iterator)`, which works even if it's not a real or virtual subclass of `abc.Iterator`, because it checks internally if the given object implements the `__next__` and `__iter__` methods.\n",
    "\n",
    "There is no way to check whether there are remaining items (or how many), other to call `next()` and catch `StopIteration` when it happens. Also, it is not possible to reset a depleted iterator---you must call `iter()` on the iterable again.\n",
    "\n",
    "It is a **bad idea** to turn an iterable (like `Sentence`) into an iterator by implementing a `__next__` method, because it should be possible to obtain multiple *independent* iterators from the same iterable, and each iterator must keep its own internal state."
   ]
  },
  {
   "cell_type": "code",
   "execution_count": 13,
   "metadata": {},
   "outputs": [
    {
     "name": "stdout",
     "output_type": "stream",
     "text": [
      "A\n",
      "B\n",
      "C\n",
      "A\n",
      "B\n",
      "C\n"
     ]
    }
   ],
   "source": [
    "# Implementing a for loop by hand\n",
    "# For loop\n",
    "s = 'ABC'\n",
    "for c in s:\n",
    "    print(c)\n",
    "    \n",
    "# cumbersome way\n",
    "it = iter(s)\n",
    "while True:\n",
    "    try:\n",
    "        c = next(it)\n",
    "        print(c)\n",
    "    except StopIteration:\n",
    "        del it\n",
    "        break"
   ]
  },
  {
   "cell_type": "code",
   "execution_count": 16,
   "metadata": {},
   "outputs": [],
   "source": [
    "# First example: a Sentence class that is a Sequence and therefore is also an iterable, but indirectly.\n",
    "import re\n",
    "import reprlib\n",
    "\n",
    "RE_WORD = re.compile('\\w+')\n",
    "\n",
    "class Sentence:\n",
    "    def __init__(self, text):\n",
    "        self.text = text\n",
    "        self.words = RE_WORD.findall(text)\n",
    "        \n",
    "    def __getitem__(self, index):\n",
    "        return self.words[index]\n",
    "    \n",
    "    def __len__(self):\n",
    "        return len(self.words)\n",
    "    \n",
    "    def __repr__(self):\n",
    "        return f'Sentence({reprlib.repr(self.text)})'\n",
    "    "
   ]
  },
  {
   "cell_type": "code",
   "execution_count": 20,
   "metadata": {},
   "outputs": [],
   "source": [
    "# Turn into an explicit iterable by implementing the iterator protocol instead\n",
    "class SentenceV2:\n",
    "    \n",
    "    def __init__(self, text):\n",
    "        self.text = text\n",
    "        self.words = RE_WORD.findall(text)\n",
    "        \n",
    "    def __repr__(self):\n",
    "        return f'Sentence({reprlib.repr(self.text)})'\n",
    "    \n",
    "    def __iter__(self):\n",
    "        # This could be replaced with\n",
    "        # return iter(self.words)\n",
    "        for word in self.words:\n",
    "            yield word"
   ]
  },
  {
   "cell_type": "code",
   "execution_count": 21,
   "metadata": {},
   "outputs": [
    {
     "name": "stdout",
     "output_type": "stream",
     "text": [
      "Sentence(\"My name is C...'m in a plane\")\n",
      "My\n",
      "name\n",
      "is\n",
      "Cristobal\n",
      "and\n",
      "I\n",
      "m\n",
      "in\n",
      "a\n",
      "plane\n"
     ]
    }
   ],
   "source": [
    "s = SentenceV2(\"My name is Cristobal and I'm in a plane\")\n",
    "print(s)\n",
    "for w in s:\n",
    "    print(w)"
   ]
  },
  {
   "cell_type": "markdown",
   "metadata": {},
   "source": [
    "## Generators"
   ]
  },
  {
   "cell_type": "markdown",
   "metadata": {},
   "source": [
    "Any function that has a `yield` keyword in its body. It turns into a *generator fatory*---each time it's called it will return a new generator.\n",
    "\n",
    ">Generators are iterators that produce the values of the expression passed to the `yield` statement"
   ]
  },
  {
   "cell_type": "markdown",
   "metadata": {},
   "source": [
    "### Generator expressions\n",
    "Like a list comprehension, but returning a generator instead of a list. same syntax as listcomps, but using `()` instead of `[]`."
   ]
  },
  {
   "cell_type": "code",
   "execution_count": 26,
   "metadata": {},
   "outputs": [
    {
     "name": "stdout",
     "output_type": "stream",
     "text": [
      "name\n",
      "cristobal\n",
      "name\n",
      "cristobal\n"
     ]
    }
   ],
   "source": [
    "words = 'my name is cristobal'.split()\n",
    "l1 = [word for word in words if len(word)>2]\n",
    "for word in l1:\n",
    "    print(word)\n",
    "\n",
    "g1 = (word for word in words if len(word)>2)\n",
    "for word in g1:\n",
    "    print(word)"
   ]
  },
  {
   "cell_type": "markdown",
   "metadata": {},
   "source": [
    "## Generators in the standard library\n",
    "Some generators in the standard library module `itertools`:"
   ]
  },
  {
   "cell_type": "markdown",
   "metadata": {},
   "source": [
    "### `itertools.count`\n",
    "An infinite generator that returns values from a given `start` at a given `step`."
   ]
  },
  {
   "cell_type": "code",
   "execution_count": 34,
   "metadata": {},
   "outputs": [
    {
     "name": "stdout",
     "output_type": "stream",
     "text": [
      "0\n",
      "2\n"
     ]
    }
   ],
   "source": [
    "import itertools\n",
    "\n",
    "gen = itertools.count(start=0, step=2)\n",
    "\n",
    "print(next(gen))\n",
    "print(next(gen))"
   ]
  },
  {
   "cell_type": "markdown",
   "metadata": {},
   "source": [
    "### `itertools.takewhile`"
   ]
  },
  {
   "cell_type": "markdown",
   "metadata": {},
   "source": [
    "Returns a generator that consumes another generator, while a given predicate evaluates to true. A predicate is a one-argument function that returns a `bool`, and will be applied to each item in the input to determine whether the item is included in the output."
   ]
  },
  {
   "cell_type": "code",
   "execution_count": 35,
   "metadata": {},
   "outputs": [
    {
     "name": "stdout",
     "output_type": "stream",
     "text": [
      "[0, 3, 6, 9]\n"
     ]
    }
   ],
   "source": [
    "gen = itertools.takewhile(lambda x: x < 10, itertools.count(start=0, step=3))\n",
    "print([x for x in gen])"
   ]
  },
  {
   "cell_type": "code",
   "execution_count": null,
   "metadata": {},
   "outputs": [],
   "source": []
  }
 ],
 "metadata": {
  "kernelspec": {
   "display_name": "ml",
   "language": "python",
   "name": "ml"
  },
  "language_info": {
   "codemirror_mode": {
    "name": "ipython",
    "version": 3
   },
   "file_extension": ".py",
   "mimetype": "text/x-python",
   "name": "python",
   "nbconvert_exporter": "python",
   "pygments_lexer": "ipython3",
   "version": "3.6.6"
  }
 },
 "nbformat": 4,
 "nbformat_minor": 2
}
