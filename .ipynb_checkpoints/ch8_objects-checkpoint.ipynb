{
 "cells": [
  {
   "cell_type": "markdown",
   "metadata": {},
   "source": [
    "## Shallow vs deep copies"
   ]
  },
  {
   "cell_type": "code",
   "execution_count": 1,
   "metadata": {},
   "outputs": [
    {
     "name": "stdout",
     "output_type": "stream",
     "text": [
      "True\n",
      "True\n"
     ]
    }
   ],
   "source": [
    "## Aliasing\n",
    "l1 = [1,2,3]\n",
    "l2 = l1\n",
    "# l1 and l2 point to the same object, so changing something in l1 affects l2\n",
    "print(l1 is l2)\n",
    "l1.append(4)\n",
    "print(4 in l2)"
   ]
  },
  {
   "cell_type": "code",
   "execution_count": 4,
   "metadata": {},
   "outputs": [
    {
     "name": "stdout",
     "output_type": "stream",
     "text": [
      "False\n",
      "False True\n",
      "[1, 2, [3, 4, 5]]\n"
     ]
    }
   ],
   "source": [
    "# Shallow copy: new object for the container, not the items\n",
    "l3 = list(l1)\n",
    "print(l3 is l1)\n",
    "l1.append(5)\n",
    "print(5 in l3, 5 in l1)\n",
    "# This works because the items in the list (int) are immutable, so it \n",
    "# doesn't matter for shallow copies, but if the items were mutable it would\n",
    "l1 = [1, 2, [3, 4]]\n",
    "l3 = list(l1)\n",
    "l1[2].append(5)\n",
    "print(l3)\n",
    "# the list inside l3 changed with the append in l1, even though l3 is a shallow copy,\n",
    "# because the list is mutable and shallow copies point the items at the same objects"
   ]
  },
  {
   "cell_type": "code",
   "execution_count": 9,
   "metadata": {},
   "outputs": [
    {
     "name": "stdout",
     "output_type": "stream",
     "text": [
      "[1, 2, [3, 4, 5]]\n",
      "[1, 2, [3, 4, 5, 6]] [1, 2, [3, 4, 5]]\n"
     ]
    }
   ],
   "source": [
    "# Deep copies\n",
    "#copy() creates a shallow copy, deepcopy() creates a deep copy\n",
    "l1 = [1, 2, [3, 4]]\n",
    "l3 = l1.copy()\n",
    "l1[2].append(5)\n",
    "print(l3)\n",
    "\n",
    "from copy import deepcopy\n",
    "l3_deep = deepcopy(l1)\n",
    "l1[2].append(6)\n",
    "print(l1, l3_deep)"
   ]
  }
 ],
 "metadata": {
  "kernelspec": {
   "display_name": "Python [conda env:Anaconda3]",
   "language": "python",
   "name": "conda-env-Anaconda3-py"
  },
  "language_info": {
   "codemirror_mode": {
    "name": "ipython",
    "version": 3
   },
   "file_extension": ".py",
   "mimetype": "text/x-python",
   "name": "python",
   "nbconvert_exporter": "python",
   "pygments_lexer": "ipython3",
   "version": "3.6.6"
  }
 },
 "nbformat": 4,
 "nbformat_minor": 2
}
