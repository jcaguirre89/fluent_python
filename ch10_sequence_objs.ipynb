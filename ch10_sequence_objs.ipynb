{
 "cells": [
  {
   "cell_type": "markdown",
   "metadata": {},
   "source": [
    "# Sequence hacking\n",
    "multidimensional expansion to the vector class created in ch9. Will implement methods that allow the object to behave (quack) like a sequence. For this, the object must define 2 methods:\n",
    "- \\_\\_len__: get the size of the object\n",
    "- \\_\\_getitem__: get an item at a given index (slicing)\n",
    "\n"
   ]
  },
  {
   "cell_type": "markdown",
   "metadata": {},
   "source": [
    "## Discussion: variable args in constructor\n",
    "a Vector class could receive variable size constructors through an *args in the \\_\\_init__ fn and it would work, but the best practice for a sequence constructor is to take the data as an iterable argument in the constructor (a list, generator, object with \\_\\_iter__method, etc.)"
   ]
  },
  {
   "cell_type": "code",
   "execution_count": 19,
   "metadata": {},
   "outputs": [],
   "source": [
    "import math\n",
    "from array import array\n",
    "import reprlib #repr that truncates after certain length\n",
    "\n",
    "class Vector:\n",
    "    typecode = 'd'\n",
    "    \n",
    "    def __init__(self, components):\n",
    "        self._components = array(self.typecode, components)\n",
    "        \n",
    "    def __iter__(self):\n",
    "        return iter(self._components)\n",
    "    \n",
    "    def __repr__(self):\n",
    "        components = reprlib.repr(self._components)\n",
    "        components = components[components.find('['):-1] # removes array('d' and trailing )\n",
    "        class_name = type(self).__name__\n",
    "        return '{}({})'.format(class_name, components)\n",
    "    \n",
    "    def __str__(self):\n",
    "        return str(tuple(self))\n",
    "    \n",
    "    def __bytes__(self):\n",
    "        return (bytes([ord(self.typecode)]) +\n",
    "                bytes(self._components))\n",
    "    \n",
    "    def __eq__(self, other):\n",
    "        return tuple(self) == tuple(other)\n",
    "    \n",
    "    def __abs__(self):\n",
    "        return math.sqrt(sum(x * x for x in self))\n",
    "    \n",
    "    def __bool__(self):\n",
    "        return bool(abs(self))\n",
    "    \n",
    "    @classmethod\n",
    "    def frombytes(cls, octets):\n",
    "        typecode = chr(octets[0])\n",
    "        memv = memoryview(octets[1:]).cast(typecode)\n",
    "        return cls(memv)\n",
    "    \n",
    "    # Sequence protocol\n",
    "    def __len__(self):\n",
    "        return len(self._components)\n",
    "    \n",
    "    def __getitem__(self, position):\n",
    "        return self._components[position]\n"
   ]
  },
  {
   "cell_type": "code",
   "execution_count": 22,
   "metadata": {},
   "outputs": [
    {
     "name": "stdout",
     "output_type": "stream",
     "text": [
      "6\n",
      "2.0\n",
      "array('d', [1.0, 5.0])\n"
     ]
    }
   ],
   "source": [
    "# Sequence protocol\n",
    "v = Vector([1,5,2,5,32,5])\n",
    "print(len(v))\n",
    "print(v[2])\n",
    "print(v[0:2])"
   ]
  },
  {
   "cell_type": "code",
   "execution_count": 41,
   "metadata": {},
   "outputs": [
    {
     "name": "stdout",
     "output_type": "stream",
     "text": [
      "slice(1, 4, None)\n",
      "(slice(1, 4, 2), slice(5, 10, 5))\n",
      "['__class__', '__delattr__', '__dir__', '__doc__', '__eq__', '__format__', '__ge__', '__getattribute__', '__gt__', '__hash__', '__init__', '__init_subclass__', '__le__', '__lt__', '__ne__', '__new__', '__reduce__', '__reduce_ex__', '__repr__', '__setattr__', '__sizeof__', '__str__', '__subclasshook__', 'indices', 'start', 'step', 'stop']\n",
      "Help on method_descriptor:\n",
      "\n",
      "indices(...)\n",
      "    S.indices(len) -> (start, stop, stride)\n",
      "    \n",
      "    Assuming a sequence of length len, calculate the start and stop\n",
      "    indices, and the stride length of the extended slice described by\n",
      "    S. Out of bounds indices are clipped in a manner consistent with the\n",
      "    handling of normal slices.\n",
      "\n",
      "None\n",
      "(0, 5, 2) ->'ABCDE'[0:5:2] == 'ABCDE'[:10:2]\n",
      "(2, 5, 1) ->'ABCDE'[-3:] == 'ABCDE'[2:5:1]\n"
     ]
    },
    {
     "data": {
      "text/plain": [
       "True"
      ]
     },
     "execution_count": 41,
     "metadata": {},
     "output_type": "execute_result"
    }
   ],
   "source": [
    "# Understanding the slice objects\n",
    "class MySeq:\n",
    "    \"\"\" Just returns the index object to see how it's treated by the getitem method\"\"\"\n",
    "    def __getitem__(self, index):\n",
    "        return index\n",
    "    \n",
    "s = MySeq()\n",
    "print(s[1:4])\n",
    "# A [1:4] slice is turned into a slice object where slice(start, stop, stride)\n",
    "print(s[1:4:2, 5:10:5])\n",
    "# Actually it's a tuple of slice objects\n",
    "print(dir(slice))\n",
    "# Slice has an indices method, which produces normalized tuples of nonnegative\n",
    "# start, stop and stride integers adjusted to fit within the given sequence\n",
    "print(help(slice.indices))\n",
    "print(slice(None, 10, 2).indices(5), \"->'ABCDE'[0:5:2] == 'ABCDE'[:10:2]\")\n",
    "'ABCDE'[0:5:2] == 'ABCDE'[:10:2]\n",
    "\n",
    "print(slice(-3, None, None).indices(5), \"->'ABCDE'[-3:] == 'ABCDE'[2:5:1]\")\n",
    "'ABCDE'[-3:] == 'ABCDE'[2:5:1]"
   ]
  },
  {
   "cell_type": "code",
   "execution_count": 57,
   "metadata": {},
   "outputs": [],
   "source": [
    "# The problem with the current getitem method in vector is that a slice returns\n",
    "# an object of another type (an array) when it would be better if it \n",
    "# returned another object of the same type (vector). \n",
    "# The handling of the slice is delegated to _components, which is an array and already knows how to do it\n",
    "class VectorV2(Vector):\n",
    "    def __getitem__(self, index):\n",
    "        cls = type(self)\n",
    "        if isinstance(index, slice):\n",
    "            return cls(self._components[index])\n",
    "        elif isinstance(index, int): # could use numbers.Integral instead of int\n",
    "            return self._components[index]\n",
    "        else:\n",
    "            msg = f\"{cls.__name__} indices must be integers\"\n",
    "            raise TypeError(msg)"
   ]
  },
  {
   "cell_type": "code",
   "execution_count": 55,
   "metadata": {},
   "outputs": [
    {
     "data": {
      "text/plain": [
       "VectorV2([35.0, 6.0])"
      ]
     },
     "execution_count": 55,
     "metadata": {},
     "output_type": "execute_result"
    }
   ],
   "source": [
    "v1 = Vector([23,35,6,3,3,2,46,3,2,4])\n",
    "v2 = VectorV2([23,35,6,3,3,2,46,3,2,4])\n",
    "\n",
    "v2[1:3]\n",
    "#v1[1:3]"
   ]
  },
  {
   "cell_type": "markdown",
   "metadata": {},
   "source": [
    "## Dynamic attribute access\n",
    "Vector2d allowed to access attributes by name (v.x, v.y), while this object doesn't define names.\n",
    "\n",
    "The method \\_\\_getattr__ provides a way to do it. it is invoked by the interpreter when an attribute lookup fails. If I write v.x, the following happends in order:\n",
    "1. checks if the v instance has an attribute named v\n",
    "2. go to the class\n",
    "3. then up the inheritance graph\n",
    "4. finally if x is never found, the getattr method is called"
   ]
  },
  {
   "cell_type": "code",
   "execution_count": 66,
   "metadata": {},
   "outputs": [],
   "source": [
    "class VectorV3(VectorV2):\n",
    "    shortcut_names = 'xyzt'\n",
    "    \n",
    "    def __getattr__(self, name):\n",
    "        cls = type(self)\n",
    "        if len(name) == 1:\n",
    "            pos = cls.shortcut_names.find(name) # returns index of the given name in the xyzt sequence, -1 if not found\n",
    "            if 0 <= pos < len(self._components):\n",
    "                return self._components[pos]\n",
    "            else:\n",
    "                msg = f\"{cls.__name__} has no attribute {name}\"\n",
    "                raise AttributeError(msg)\n",
    "            \n"
   ]
  },
  {
   "cell_type": "code",
   "execution_count": 68,
   "metadata": {},
   "outputs": [
    {
     "name": "stdout",
     "output_type": "stream",
     "text": [
      "2.0\n"
     ]
    },
    {
     "ename": "AttributeError",
     "evalue": "VectorV3 has no attribute k",
     "output_type": "error",
     "traceback": [
      "\u001b[1;31m---------------------------------------------------------------------------\u001b[0m",
      "\u001b[1;31mAttributeError\u001b[0m                            Traceback (most recent call last)",
      "\u001b[1;32m<ipython-input-68-2a571b2c3d8f>\u001b[0m in \u001b[0;36m<module>\u001b[1;34m()\u001b[0m\n\u001b[0;32m      1\u001b[0m \u001b[0mv\u001b[0m \u001b[1;33m=\u001b[0m \u001b[0mVectorV3\u001b[0m\u001b[1;33m(\u001b[0m\u001b[1;33m[\u001b[0m\u001b[1;36m2\u001b[0m\u001b[1;33m,\u001b[0m\u001b[1;36m4\u001b[0m\u001b[1;33m,\u001b[0m\u001b[1;36m5\u001b[0m\u001b[1;33m,\u001b[0m\u001b[1;36m2\u001b[0m\u001b[1;33m,\u001b[0m\u001b[1;36m5\u001b[0m\u001b[1;33m,\u001b[0m\u001b[1;36m2\u001b[0m\u001b[1;33m,\u001b[0m\u001b[1;36m5\u001b[0m\u001b[1;33m]\u001b[0m\u001b[1;33m)\u001b[0m\u001b[1;33m\u001b[0m\u001b[0m\n\u001b[0;32m      2\u001b[0m \u001b[0mprint\u001b[0m\u001b[1;33m(\u001b[0m\u001b[0mv\u001b[0m\u001b[1;33m.\u001b[0m\u001b[0mx\u001b[0m\u001b[1;33m)\u001b[0m\u001b[1;33m\u001b[0m\u001b[0m\n\u001b[1;32m----> 3\u001b[1;33m \u001b[0mv\u001b[0m\u001b[1;33m.\u001b[0m\u001b[0mk\u001b[0m\u001b[1;33m\u001b[0m\u001b[0m\n\u001b[0m",
      "\u001b[1;32m<ipython-input-66-8160e9e7a189>\u001b[0m in \u001b[0;36m__getattr__\u001b[1;34m(self, name)\u001b[0m\n\u001b[0;32m     10\u001b[0m             \u001b[1;32melse\u001b[0m\u001b[1;33m:\u001b[0m\u001b[1;33m\u001b[0m\u001b[0m\n\u001b[0;32m     11\u001b[0m                 \u001b[0mmsg\u001b[0m \u001b[1;33m=\u001b[0m \u001b[1;34mf\"{cls.__name__} has no attribute {name}\"\u001b[0m\u001b[1;33m\u001b[0m\u001b[0m\n\u001b[1;32m---> 12\u001b[1;33m                 \u001b[1;32mraise\u001b[0m \u001b[0mAttributeError\u001b[0m\u001b[1;33m(\u001b[0m\u001b[0mmsg\u001b[0m\u001b[1;33m)\u001b[0m\u001b[1;33m\u001b[0m\u001b[0m\n\u001b[0m\u001b[0;32m     13\u001b[0m \u001b[1;33m\u001b[0m\u001b[0m\n",
      "\u001b[1;31mAttributeError\u001b[0m: VectorV3 has no attribute k"
     ]
    }
   ],
   "source": [
    "v = VectorV3([2,4,5,2,5,2,5])\n",
    "print(v.x)\n",
    "v.k"
   ]
  },
  {
   "cell_type": "markdown",
   "metadata": {},
   "source": [
    "# Set attributes\n",
    "The previous code still has an issue: if you set v.x = 10 for example, and the do a lookup of "
   ]
  }
 ],
 "metadata": {
  "kernelspec": {
   "display_name": "Python [conda env:learning]",
   "language": "python",
   "name": "conda-env-learning-py"
  },
  "language_info": {
   "codemirror_mode": {
    "name": "ipython",
    "version": 3
   },
   "file_extension": ".py",
   "mimetype": "text/x-python",
   "name": "python",
   "nbconvert_exporter": "python",
   "pygments_lexer": "ipython3",
   "version": "3.7.0"
  }
 },
 "nbformat": 4,
 "nbformat_minor": 2
}
