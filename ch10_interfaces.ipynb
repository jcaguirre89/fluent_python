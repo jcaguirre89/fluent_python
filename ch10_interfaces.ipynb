{
 "cells": [
  {
   "cell_type": "markdown",
   "metadata": {},
   "source": [
    "# Chapter 11: Interfaces"
   ]
  },
  {
   "cell_type": "markdown",
   "metadata": {},
   "source": [
    "## The sequence protocol\n",
    "If an object implements the getitem and len methods, python can implement the full *mutable* sequence interface to it, allowing you to iterate over it, use contains, etc."
   ]
  },
  {
   "cell_type": "code",
   "execution_count": 52,
   "metadata": {},
   "outputs": [],
   "source": [
    "# French deck object\n",
    "from collections import namedtuple\n",
    "\n",
    "Card = namedtuple('Card', 'rank suit')\n",
    "class FrenchDeck:\n",
    "    ranks = [str(n) for n in range(2,11)] + list('JQKA')\n",
    "    suits = 'spades diamonds clubs hearts'.split()\n",
    "    def __init__(self):\n",
    "        self._cards = [Card(rank, suit) for suit in self.suits for rank in self.ranks]\n",
    "        \n",
    "    def __len__(self):\n",
    "        return len(self._cards)\n",
    "    \n",
    "    def __getitem__(self, index):\n",
    "        return self._cards[index]"
   ]
  },
  {
   "cell_type": "code",
   "execution_count": 53,
   "metadata": {},
   "outputs": [
    {
     "name": "stdout",
     "output_type": "stream",
     "text": [
      "Card(rank='2', suit='spades')\n",
      "Card(rank='3', suit='spades')\n",
      "Card(rank='4', suit='spades')\n",
      "Card(rank='5', suit='spades')\n",
      "Card(rank='6', suit='spades')\n",
      "Card(rank='7', suit='spades')\n",
      "Card(rank='8', suit='spades')\n",
      "Card(rank='9', suit='spades')\n",
      "Card(rank='10', suit='spades')\n",
      "Card(rank='J', suit='spades')\n",
      "Card(rank='Q', suit='spades')\n",
      "Card(rank='K', suit='spades')\n",
      "Card(rank='A', suit='spades')\n"
     ]
    }
   ],
   "source": [
    "deck = FrenchDeck()\n",
    "for card in deck:\n",
    "    if card.suit == 'spades':\n",
    "        print(card)"
   ]
  },
  {
   "cell_type": "code",
   "execution_count": 54,
   "metadata": {},
   "outputs": [],
   "source": [
    "# Immutable sequence: setitem\n",
    "\n",
    "# Shuffling: could be implemented as a separate method, but\n",
    "# because it's already a sequence, a standard libary module like random would \n",
    "# also work and keep the object lightweight\n",
    "from random import shuffle\n",
    "\n",
    "class FrenchDeckV2(FrenchDeck):\n",
    "    def __setitem__(self, position, card):\n",
    "        deck._cards[position] = card\n",
    "        \n"
   ]
  },
  {
   "cell_type": "code",
   "execution_count": 55,
   "metadata": {},
   "outputs": [
    {
     "name": "stdout",
     "output_type": "stream",
     "text": [
      "Card(rank='2', suit='spades')\n",
      "Card(rank='A', suit='spades')\n"
     ]
    }
   ],
   "source": [
    "deck = FrenchDeckV2()\n",
    "print(deck[0])\n",
    "shuffle(deck)\n",
    "print(deck[0])\n"
   ]
  },
  {
   "cell_type": "code",
   "execution_count": 56,
   "metadata": {},
   "outputs": [],
   "source": [
    "# Subclassing from an ABC\n",
    "# https://docs.python.org/3/library/collections.abc.html#collections-abstract-base-classes\n",
    "# MutableSequence demands the delitem and insert methods to be implemented\n",
    "# additional methods inherited: contains, iter, reversed, index, count, append, reverse, extend, pop, remove & iadd\n",
    "from collections import abc\n",
    "\n",
    "class FrenchDeckV3(FrenchDeckV2, abc.MutableSequence):\n",
    "    def __delitem__(self, position):\n",
    "        del self._cards[position]\n",
    "        \n",
    "    def insert(self, position, value):\n",
    "        self._cards.insert(position, value)"
   ]
  },
  {
   "cell_type": "code",
   "execution_count": 58,
   "metadata": {},
   "outputs": [
    {
     "name": "stdout",
     "output_type": "stream",
     "text": [
      "[Card(rank='K', suit='hearts'), Card(rank='A', suit='hearts'), Card(rank='wildcard', suit='platinum'), Card(rank='wildcard', suit='gold')]\n",
      "54\n"
     ]
    }
   ],
   "source": [
    "deck = FrenchDeckV3()\n",
    "wildcard1 = Card('wildcard', 'platinum')\n",
    "wildcard2 = Card('wildcard', 'gold')\n",
    "deck.extend([wildcard1, wildcard2])\n",
    "print(deck[-4:])\n",
    "print(len(deck))"
   ]
  },
  {
   "cell_type": "code",
   "execution_count": null,
   "metadata": {},
   "outputs": [],
   "source": []
  }
 ],
 "metadata": {
  "kernelspec": {
   "display_name": "Python [conda env:learning]",
   "language": "python",
   "name": "conda-env-learning-py"
  },
  "language_info": {
   "codemirror_mode": {
    "name": "ipython",
    "version": 3
   },
   "file_extension": ".py",
   "mimetype": "text/x-python",
   "name": "python",
   "nbconvert_exporter": "python",
   "pygments_lexer": "ipython3",
   "version": "3.7.0"
  }
 },
 "nbformat": 4,
 "nbformat_minor": 2
}
