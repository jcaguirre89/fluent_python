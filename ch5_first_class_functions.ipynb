{
 "cells": [
  {
   "cell_type": "markdown",
   "metadata": {},
   "source": [
    "# Functions as first-class objects\n",
    "Functions, like dictionaries, strings and integers, are first-class objects, meaning they can be created at runtime, passed as arguments to other functions, or returns from other functions"
   ]
  },
  {
   "cell_type": "markdown",
   "metadata": {},
   "source": [
    "## Higher Order Functions\n",
    "A function that takes a function as an arg or returns a function. Common HOF:\n",
    "- map\n",
    "- filter\n",
    "- reduce\n",
    "- apply (deprecated in Python 3)"
   ]
  },
  {
   "cell_type": "markdown",
   "metadata": {},
   "source": [
    "### Map and Filter\n",
    "*map*: applies a function to every item in a sequence\n",
    "*filter*: filter a sequence according to a given function\n",
    "List comprehensions are more readable versions of `map` and `filter`"
   ]
  },
  {
   "cell_type": "code",
   "execution_count": 6,
   "metadata": {},
   "outputs": [
    {
     "name": "stdout",
     "output_type": "stream",
     "text": [
      "True\n",
      "True\n"
     ]
    }
   ],
   "source": [
    "def foo(a):\n",
    "    return a ** 2\n",
    "mylist = [1, 3, 4, 5]\n",
    "\n",
    "l1 = list(map(foo, mylist))\n",
    "l2 = [foo(item) for item in mylist]\n",
    "print(l1 == l2)\n",
    "\n",
    "l1 = list(map(foo, filter(lambda x: x % 2 == 0, mylist)))\n",
    "l2 = [foo(item) for item in mylist if item % 2 == 0]\n",
    "print(l1 == l2)"
   ]
  },
  {
   "cell_type": "markdown",
   "metadata": {},
   "source": [
    "### Reduce\n",
    "Demoted to a functools function. It applies an operation to a successive list of items, accumulating the result until a single value remains"
   ]
  },
  {
   "cell_type": "code",
   "execution_count": 10,
   "metadata": {},
   "outputs": [
    {
     "name": "stdout",
     "output_type": "stream",
     "text": [
      "True\n"
     ]
    }
   ],
   "source": [
    "from functools import reduce\n",
    "\n",
    "v1 = reduce(lambda x, y: x + y, range(10))\n",
    "\n",
    "# Better to use the built-in reducer sum\n",
    "v2 = sum(range(10))\n",
    "print(v1 == v2)\n",
    "\n",
    "# Other built-in reducers: any, all"
   ]
  },
  {
   "cell_type": "markdown",
   "metadata": {},
   "source": [
    "## Function annotations\n",
    "Attach metadata to the parameters of a function declaration and its return values. Annotations can be classes (`str`, `int`, `MyClass`, or strings (`int > 0`)"
   ]
  },
  {
   "cell_type": "code",
   "execution_count": 12,
   "metadata": {},
   "outputs": [
    {
     "data": {
      "text/plain": [
       "{'max_len': 'int > 0', 'return': str, 'text': str}"
      ]
     },
     "execution_count": 12,
     "metadata": {},
     "output_type": "execute_result"
    }
   ],
   "source": [
    "def clip(text:str, max_len:'int > 0'=80) -> str:\n",
    "    \"\"\"\n",
    "    Return text clipped at the last space before or after max_len\n",
    "    \"\"\"\n",
    "    end = None\n",
    "    if len(text) > max_len:\n",
    "        space_before = text.rfind(' ', 0, max_len)\n",
    "        if space_before >= 0:\n",
    "            end = space_before\n",
    "        else:\n",
    "            space_after = text.rfind(' ', max_len)\n",
    "            if space_after >= 0:\n",
    "                end = space_after\n",
    "    if end is None: # no spaces were found\n",
    "        end = len(text)\n",
    "    return text[:end].rstrip()\n",
    "\n",
    "clip.__annotations__"
   ]
  },
  {
   "cell_type": "markdown",
   "metadata": {},
   "source": [
    "## Packages for functional programming"
   ]
  },
  {
   "cell_type": "markdown",
   "metadata": {},
   "source": [
    "### The `operator` module\n",
    "Provides functional equivalents to dozens of arithmetic operations (sum, multiply, etc.)"
   ]
  },
  {
   "cell_type": "code",
   "execution_count": 35,
   "metadata": {},
   "outputs": [
    {
     "data": {
      "text/plain": [
       "['abs',\n",
       " 'add',\n",
       " 'and_',\n",
       " 'attrgetter',\n",
       " 'concat',\n",
       " 'contains',\n",
       " 'countOf',\n",
       " 'delitem',\n",
       " 'eq',\n",
       " 'floordiv',\n",
       " 'ge',\n",
       " 'getitem',\n",
       " 'gt',\n",
       " 'iadd',\n",
       " 'iand',\n",
       " 'iconcat',\n",
       " 'ifloordiv',\n",
       " 'ilshift',\n",
       " 'imatmul',\n",
       " 'imod',\n",
       " 'imul',\n",
       " 'index',\n",
       " 'indexOf',\n",
       " 'inv',\n",
       " 'invert',\n",
       " 'ior',\n",
       " 'ipow',\n",
       " 'irshift',\n",
       " 'is_',\n",
       " 'is_not',\n",
       " 'isub',\n",
       " 'itemgetter',\n",
       " 'itruediv',\n",
       " 'ixor',\n",
       " 'le',\n",
       " 'length_hint',\n",
       " 'lshift',\n",
       " 'lt',\n",
       " 'matmul',\n",
       " 'methodcaller',\n",
       " 'mod',\n",
       " 'mul',\n",
       " 'ne',\n",
       " 'neg',\n",
       " 'not_',\n",
       " 'or_',\n",
       " 'pos',\n",
       " 'pow',\n",
       " 'rshift',\n",
       " 'setitem',\n",
       " 'sub',\n",
       " 'truediv',\n",
       " 'truth',\n",
       " 'xor']"
      ]
     },
     "execution_count": 35,
     "metadata": {},
     "output_type": "execute_result"
    }
   ],
   "source": [
    "import operator\n",
    "[func for func in dir(operator) if not func.startswith('_')]"
   ]
  },
  {
   "cell_type": "code",
   "execution_count": 24,
   "metadata": {},
   "outputs": [
    {
     "data": {
      "text/plain": [
       "[('Sao Paulo', 'BR', 19.649, (-23.547778, -46.635833)),\n",
       " ('New York-Newark', 'US', 20.104, (40.808611, -74.020386)),\n",
       " ('Mexico City', 'MX', 20.142, (19.433333, -99.133333)),\n",
       " ('Delhi NCR', 'IN', 21.935, (28.613889, 77.208889)),\n",
       " ('Tokyo', 'JP', 36.933, (35.689722, 139.691667))]"
      ]
     },
     "execution_count": 24,
     "metadata": {},
     "output_type": "execute_result"
    }
   ],
   "source": [
    "# itemgetter and attrgetter\n",
    "# itemgetter(1) == lambda fields: fields[1]\n",
    "# supports any class that implements the __getitem__ method\n",
    "\n",
    "from operator import itemgetter, attrgetter\n",
    "# sort a list of tuples by the value of one field\n",
    "metro_data = [\n",
    "    ('Tokyo', 'JP', 36.933, (35.689722, 139.691667)),\n",
    "    ('Mexico City', 'MX', 20.142, (19.433333, -99.133333)),\n",
    "    ('New York-Newark', 'US', 20.104, (40.808611, -74.020386)),\n",
    "    ('Sao Paulo', 'BR', 19.649, (-23.547778, -46.635833)),\n",
    "    ('Delhi NCR', 'IN', 21.935, (28.613889, 77.208889)),\n",
    "]\n",
    "\n",
    "sorted(metro_data, key=itemgetter(2))\n"
   ]
  },
  {
   "cell_type": "code",
   "execution_count": 32,
   "metadata": {},
   "outputs": [
    {
     "name": "stdout",
     "output_type": "stream",
     "text": [
      "35.689722\n",
      "operator.attrgetter('name', 'coord.lat')\n",
      "Metropolis(name='Sao Paulo', cc='BR', pop=19.649, coord=LatLong(lat=-23.547778, long=-46.635833))\n",
      "('Sao Paulo', -23.547778)\n",
      "Metropolis(name='Mexico City', cc='MX', pop=20.142, coord=LatLong(lat=19.433333, long=-99.133333))\n",
      "('Mexico City', 19.433333)\n",
      "Metropolis(name='Delhi NCR', cc='IN', pop=21.935, coord=LatLong(lat=28.613889, long=77.208889))\n",
      "('Delhi NCR', 28.613889)\n",
      "Metropolis(name='Tokyo', cc='JP', pop=36.933, coord=LatLong(lat=35.689722, long=139.691667))\n",
      "('Tokyo', 35.689722)\n",
      "Metropolis(name='New York-Newark', cc='US', pop=20.104, coord=LatLong(lat=40.808611, long=-74.020386))\n",
      "('New York-Newark', 40.808611)\n"
     ]
    }
   ],
   "source": [
    "# attrgetter: extract object attributes by name\n",
    "from collections import namedtuple\n",
    "from operator import attrgetter\n",
    "\n",
    "LatLong = namedtuple('LatLong', 'lat long')\n",
    "Metropolis = namedtuple('Metropolis', 'name cc pop coord')\n",
    "\n",
    "metro_areas = [Metropolis(name, cc, pop, LatLong(lat, long))\n",
    "               for name, cc, pop, (lat, long) in metro_data]\n",
    "\n",
    "# traditional way to traverse nested object\n",
    "print(metro_areas[0].coord.lat)\n",
    "\n",
    "# define an attrgetter object that will retrieve the name and coord.lat nested attributes\n",
    "name_lat = attrgetter('name', 'coord.lat')\n",
    "print(name_lat)\n",
    "\n",
    "# for each city sorted by the coord.lat nested attribute,\n",
    "for city in sorted(metro_areas, key=attrgetter('coord.lat')):\n",
    "    # retrieve only the name and latitude attributes as defined earlier\n",
    "    print(city)\n",
    "    print(name_lat(city))"
   ]
  },
  {
   "cell_type": "markdown",
   "metadata": {},
   "source": [
    "### Freezing arguments with `functools.partial`\n",
    "Given a function, a partial application will produce a new function with some of the arguments of the original function *fixed*. Useful to adapt a function that takes one or more arguments to an API that expects a callback with fewer arguments.\n",
    "\n",
    "It takes a callable as its first argument, and an arbitrary number of positional and keyword arguments to bind later"
   ]
  },
  {
   "cell_type": "code",
   "execution_count": 39,
   "metadata": {},
   "outputs": [
    {
     "name": "stdout",
     "output_type": "stream",
     "text": [
      "5.0\n",
      "5.0\n"
     ]
    }
   ],
   "source": [
    "from operator import mul\n",
    "from functools import partial\n",
    "\n",
    "# mul takes 2 arguments, but triple will take only 1, and fix the other one to 3\n",
    "triple = partial(mul, 3)\n",
    "\n",
    "[triple(item) for item in range(5)]\n",
    "\n",
    "def normalize(x, subtract, divide):\n",
    "    return (x - subtract) / divide\n",
    "\n",
    "# \n",
    "single_arg = partial(normalize, subtract=0, divide=2)\n",
    "print(normalize(10, 0, 2))\n",
    "print(single_arg(10))"
   ]
  },
  {
   "cell_type": "code",
   "execution_count": null,
   "metadata": {},
   "outputs": [],
   "source": []
  }
 ],
 "metadata": {
  "kernelspec": {
   "display_name": "ml",
   "language": "python",
   "name": "ml"
  },
  "language_info": {
   "codemirror_mode": {
    "name": "ipython",
    "version": 3
   },
   "file_extension": ".py",
   "mimetype": "text/x-python",
   "name": "python",
   "nbconvert_exporter": "python",
   "pygments_lexer": "ipython3",
   "version": "3.6.6"
  }
 },
 "nbformat": 4,
 "nbformat_minor": 2
}
